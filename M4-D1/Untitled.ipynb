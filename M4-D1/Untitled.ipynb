{
 "cells": [
  {
   "cell_type": "code",
   "execution_count": 3,
   "id": "badc4b95-b52d-4027-bdea-6d9e3ae039a2",
   "metadata": {},
   "outputs": [
    {
     "name": "stdout",
     "output_type": "stream",
     "text": [
      "25\n"
     ]
    }
   ],
   "source": [
    "studenti = 25\n",
    "print(studenti)\n",
    "\n",
    "\n",
    "\n"
   ]
  },
  {
   "cell_type": "code",
   "execution_count": 4,
   "id": "73b983c7-2025-4eb9-b4e3-7ac9b9c62f40",
   "metadata": {},
   "outputs": [
    {
     "name": "stdout",
     "output_type": "stream",
     "text": [
      "3\n"
     ]
    }
   ],
   "source": [
    "studenti2 = 3\n",
    "print(studenti2)"
   ]
  },
  {
   "cell_type": "code",
   "execution_count": 5,
   "id": "35bd42dd-97e4-4b83-9873-7caa74f5ce96",
   "metadata": {},
   "outputs": [
    {
     "data": {
      "text/plain": [
       "28"
      ]
     },
     "execution_count": 5,
     "metadata": {},
     "output_type": "execute_result"
    }
   ],
   "source": [
    "studenti + studenti2"
   ]
  },
  {
   "cell_type": "code",
   "execution_count": 6,
   "id": "acd0b759-401c-4e1c-af8e-f2e072092684",
   "metadata": {},
   "outputs": [],
   "source": [
    "classe = studenti+studenti2"
   ]
  },
  {
   "cell_type": "code",
   "execution_count": 7,
   "id": "0d9bec77-8e3b-4af2-a338-818124bd1fa9",
   "metadata": {},
   "outputs": [
    {
     "name": "stdout",
     "output_type": "stream",
     "text": [
      "28\n"
     ]
    }
   ],
   "source": [
    "print(classe)"
   ]
  },
  {
   "cell_type": "code",
   "execution_count": 8,
   "id": "0972ff08-cf97-40dd-88f4-4a61ba55f3c0",
   "metadata": {},
   "outputs": [],
   "source": [
    "lista=[0, 1, 2, 3, 4, 5]\n",
    "variabilelista=lista"
   ]
  },
  {
   "cell_type": "code",
   "execution_count": 9,
   "id": "ca8d307c-d338-4bca-8492-3202dcab1f33",
   "metadata": {},
   "outputs": [
    {
     "name": "stdout",
     "output_type": "stream",
     "text": [
      "[0, 1, 2, 3, 4, 5]\n"
     ]
    }
   ],
   "source": [
    "print(variabilelista)"
   ]
  },
  {
   "cell_type": "code",
   "execution_count": 14,
   "id": "29ca7929-0ceb-4490-9a18-8293482f4fef",
   "metadata": {},
   "outputs": [
    {
     "name": "stdout",
     "output_type": "stream",
     "text": [
      "['Forrest Gump', 'Il miglio verde', \"Ricatto d'amore\"]\n"
     ]
    }
   ],
   "source": [
    "film=[\"Forrest Gump\", \"Il miglio verde\", \"Ricatto d'amore\"]\n",
    "bestmovies= film\n",
    "print(bestmovies)"
   ]
  },
  {
   "cell_type": "code",
   "execution_count": null,
   "id": "bebdea76-680e-4d31-928c-25350333c395",
   "metadata": {},
   "outputs": [],
   "source": []
  }
 ],
 "metadata": {
  "kernelspec": {
   "display_name": "Python 3 (ipykernel)",
   "language": "python",
   "name": "python3"
  },
  "language_info": {
   "codemirror_mode": {
    "name": "ipython",
    "version": 3
   },
   "file_extension": ".py",
   "mimetype": "text/x-python",
   "name": "python",
   "nbconvert_exporter": "python",
   "pygments_lexer": "ipython3",
   "version": "3.10.9"
  }
 },
 "nbformat": 4,
 "nbformat_minor": 5
}
